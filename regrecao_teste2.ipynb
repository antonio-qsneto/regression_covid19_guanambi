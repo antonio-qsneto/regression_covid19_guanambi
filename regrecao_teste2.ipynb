{
  "nbformat": 4,
  "nbformat_minor": 0,
  "metadata": {
    "colab": {
      "name": "regrecao_teste2.ipynb",
      "provenance": []
    },
    "kernelspec": {
      "name": "python3",
      "display_name": "Python 3"
    },
    "language_info": {
      "name": "python"
    }
  },
  "cells": [
    {
      "cell_type": "markdown",
      "metadata": {
        "id": "g8t35C_xplax"
      },
      "source": [
        "# Predição de casos de Covid-19 para a cidade de Guanambi\n",
        "Dataset: https://brasil.io/dataset/covid19/caso_full/?search=&epidemiological_week=&date=&order_for_place=&state=&city=Guanambi&city_ibge_code=&place_type=city&last_available_date=&is_last=&is_repeated=False"
      ]
    },
    {
      "cell_type": "code",
      "metadata": {
        "id": "5GYlkHK84g1V"
      },
      "source": [
        "import numpy as np\n",
        "import matplotlib.pyplot as plt\n",
        "import pandas as pd"
      ],
      "execution_count": 445,
      "outputs": []
    },
    {
      "cell_type": "code",
      "metadata": {
        "id": "H6SMYQryE5ub"
      },
      "source": [
        "dataset = pd.read_csv('/content/covid19-d71f6e63a8e44afc97651234b95642de.csv')"
      ],
      "execution_count": 446,
      "outputs": []
    },
    {
      "cell_type": "code",
      "metadata": {
        "id": "RW2poYCPFaCM"
      },
      "source": [
        "X = dataset.iloc[:,[2]].values.astype(float)\n",
        "y = dataset.iloc[:,[7]].values.astype(float)"
      ],
      "execution_count": 447,
      "outputs": []
    },
    {
      "cell_type": "code",
      "metadata": {
        "colab": {
          "base_uri": "https://localhost:8080/",
          "height": 349
        },
        "id": "XqEb06h14hcX",
        "outputId": "1f0aa419-4fe6-4d56-e0f4-bd899e9ec17c"
      },
      "source": [
        "from sklearn.preprocessing import StandardScaler\n",
        "sc_X = StandardScaler()\n",
        "sc_y = StandardScaler()\n",
        "X = sc_X.fit_transform(X)\n",
        "y = sc_y.fit_transform(y)\n",
        "\n",
        "from sklearn.svm import SVR\n",
        "regressor = SVR(kernel='rbf')\n",
        "regressor.fit(X,y)\n",
        "\n",
        "plt.scatter(X, y, color = 'magenta')\n",
        "plt.plot(X, regressor.predict(X), color = 'green')\n",
        "plt.title('Visualizando Regressão dos Resultados ')\n",
        "plt.xlabel('dia')\n",
        "plt.ylabel('Casos')\n",
        "plt.show()"
      ],
      "execution_count": 448,
      "outputs": [
        {
          "output_type": "stream",
          "text": [
            "/usr/local/lib/python3.7/dist-packages/sklearn/utils/validation.py:760: DataConversionWarning: A column-vector y was passed when a 1d array was expected. Please change the shape of y to (n_samples, ), for example using ravel().\n",
            "  y = column_or_1d(y, warn=True)\n"
          ],
          "name": "stderr"
        },
        {
          "output_type": "display_data",
          "data": {
            "image/png": "[encoded data removed]",
            "text/plain": [
              "<Figure size 432x288 with 1 Axes>"
            ]
          },
          "metadata": {
            "tags": [],
            "needs_background": "light"
          }
        }
      ]
    },
    {
      "cell_type": "markdown",
      "metadata": {
        "id": "qgmzYZWdlFl1"
      },
      "source": [
        "#5 Prevendo novos resultados"
      ]
    },
    {
      "cell_type": "code",
      "metadata": {
        "id": "LTJU0zLo4tac"
      },
      "source": [
        "# Aqui prevemos os próximos resultados informando o numero relativo ao dia conrrespondente a tabela. Nesse caso 463 corresponde ao dia 2021-07-29\n",
        "y_pred = sc_y.inverse_transform((regressor.predict(sc_X.transform(np.array([[469]])))))"
      ],
      "execution_count": 449,
      "outputs": []
    },
    {
      "cell_type": "code",
      "metadata": {
        "colab": {
          "base_uri": "https://localhost:8080/"
        },
        "id": "kWP9ww-y5bwx",
        "outputId": "7e72ac76-a44c-40d9-eb3a-135d1afe00de"
      },
      "source": [
        "# A saída dará a previsão de numero de infectados para a cidade de Guanambi\n",
        "y_pred"
      ],
      "execution_count": 451,
      "outputs": [
        {
          "output_type": "execute_result",
          "data": {
            "text/plain": [
              "array([10386.16863655])"
            ]
          },
          "metadata": {
            "tags": []
          },
          "execution_count": 451
        }
      ]
    },
    {
      "cell_type": "code",
      "metadata": {
        "id": "NMmn1Ftsm_pB"
      },
      "source": [
        ""
      ],
      "execution_count": null,
      "outputs": []
    }
  ]
}
